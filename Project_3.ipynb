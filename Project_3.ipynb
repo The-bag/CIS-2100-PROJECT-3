{
  "nbformat": 4,
  "nbformat_minor": 0,
  "metadata": {
    "colab": {
      "provenance": [],
      "authorship_tag": "ABX9TyPVDAazi0/THY7HGMmScO2F",
      "include_colab_link": true
    },
    "kernelspec": {
      "name": "python3",
      "display_name": "Python 3"
    },
    "language_info": {
      "name": "python"
    }
  },
  "cells": [
    {
      "cell_type": "markdown",
      "metadata": {
        "id": "view-in-github",
        "colab_type": "text"
      },
      "source": [
        "<a href=\"https://colab.research.google.com/github/The-bag/CIS-2100-PROJECT-3/blob/main/Project_3.ipynb\" target=\"_parent\"><img src=\"https://colab.research.google.com/assets/colab-badge.svg\" alt=\"Open In Colab\"/></a>"
      ]
    },
    {
      "cell_type": "markdown",
      "source": [
        "Cell 1: Imports and Setup\n"
      ],
      "metadata": {
        "id": "ZH3PufVK3pZu"
      }
    },
    {
      "cell_type": "code",
      "source": [
        "# Imports\n",
        "import pandas as pd\n",
        "import matplotlib.pyplot as plt\n",
        "import seaborn as sns\n",
        "from mlxtend.frequent_patterns import apriori, association_rules\n",
        "\n",
        "# Load sales data from a drive\n",
        "from google.colab import drive\n",
        "drive.mount('/content/drive')\n",
        "\n",
        "sales_df = pd.read_csv('/content/drive/MyDrive/Colab Notebooks/sales_data.csv')\n"
      ],
      "metadata": {
        "colab": {
          "base_uri": "https://localhost:8080/"
        },
        "id": "TJgCIgUw2Yhl",
        "outputId": "1b1b038a-36a8-4998-a823-7450a919f22c"
      },
      "execution_count": 47,
      "outputs": [
        {
          "output_type": "stream",
          "name": "stderr",
          "text": [
            "/usr/local/lib/python3.10/dist-packages/ipykernel/ipkernel.py:283: DeprecationWarning: `should_run_async` will not call `transform_cell` automatically in the future. Please pass the result to `transformed_cell` argument and any exception that happen during thetransform in `preprocessing_exc_tuple` in IPython 7.17 and above.\n",
            "  and should_run_async(code)\n"
          ]
        },
        {
          "output_type": "stream",
          "name": "stdout",
          "text": [
            "Drive already mounted at /content/drive; to attempt to forcibly remount, call drive.mount(\"/content/drive\", force_remount=True).\n"
          ]
        }
      ]
    },
    {
      "cell_type": "markdown",
      "source": [
        "Cell 2: Best-Selling Items Per Store\n"
      ],
      "metadata": {
        "id": "h8EZVv6X3rEw"
      }
    },
    {
      "cell_type": "code",
      "source": [
        "# 1. Best-Selling Items Per Store\n",
        "print(\"Best-Selling Items for Each Store\")\n",
        "best_selling_per_store = sales_df.groupby(['StoreID', 'ProductName']).size().reset_index(name='Count')\n",
        "best_selling_per_store = best_selling_per_store.sort_values(['StoreID', 'Count'], ascending=[True, False])\n",
        "\n",
        "# Display top-selling items for each store\n",
        "for store in sales_df['StoreID'].unique():\n",
        "    print(f\"\\nStore: {store}\")\n",
        "    print(best_selling_per_store[best_selling_per_store['StoreID'] == store].head(10))\n"
      ],
      "metadata": {
        "colab": {
          "base_uri": "https://localhost:8080/"
        },
        "id": "QAbO0KeC2rkw",
        "outputId": "25409da3-6ab0-41b7-c6ff-6ea34568e38e"
      },
      "execution_count": 48,
      "outputs": [
        {
          "output_type": "stream",
          "name": "stdout",
          "text": [
            "Best-Selling Items for Each Store\n",
            "\n",
            "Store: Store001\n",
            "    StoreID  ProductName  Count\n",
            "2  Store001  Thingamajig     82\n",
            "3  Store001       Widget     82\n",
            "0  Store001       Doodad     74\n",
            "1  Store001       Gadget     67\n",
            "\n",
            "Store: Store002\n",
            "    StoreID  ProductName  Count\n",
            "6  Store002  Thingamajig     84\n",
            "4  Store002       Doodad     79\n",
            "7  Store002       Widget     79\n",
            "5  Store002       Gadget     73\n"
          ]
        },
        {
          "output_type": "stream",
          "name": "stderr",
          "text": [
            "/usr/local/lib/python3.10/dist-packages/ipykernel/ipkernel.py:283: DeprecationWarning: `should_run_async` will not call `transform_cell` automatically in the future. Please pass the result to `transformed_cell` argument and any exception that happen during thetransform in `preprocessing_exc_tuple` in IPython 7.17 and above.\n",
            "  and should_run_async(code)\n"
          ]
        }
      ]
    },
    {
      "cell_type": "markdown",
      "source": [
        "Cell 3: Best-Selling Items Across the Entire Organization\n"
      ],
      "metadata": {
        "id": "M7i34vYT3t1K"
      }
    },
    {
      "cell_type": "code",
      "source": [
        "# 2. Best-Selling Items Across the Entire Organization\n",
        "print(\"\\nBest-Selling Items Across All Stores\")\n",
        "organization_best_selling = sales_df['ProductName'].value_counts().head(10)\n",
        "print(organization_best_selling)\n",
        "\n",
        "# Visualization of best-selling items across all stores\n",
        "plt.figure(figsize=(10, 6))\n",
        "sns.barplot(x=organization_best_selling.index, y=organization_best_selling.values)\n",
        "plt.title(\"Top 10 Best-Selling Items Across All Stores\")\n",
        "plt.xlabel(\"Product Name\")\n",
        "plt.ylabel(\"Frequency\")\n",
        "plt.xticks(rotation=45)\n",
        "plt.show()\n"
      ],
      "metadata": {
        "colab": {
          "base_uri": "https://localhost:8080/",
          "height": 815
        },
        "id": "Ud_hqHd02u6a",
        "outputId": "457bf434-cf40-4756-8876-aa0852737c63"
      },
      "execution_count": 49,
      "outputs": [
        {
          "output_type": "stream",
          "name": "stdout",
          "text": [
            "\n",
            "Best-Selling Items Across All Stores\n",
            "ProductName\n",
            "Thingamajig    166\n",
            "Widget         161\n",
            "Doodad         153\n",
            "Gadget         140\n",
            "Name: count, dtype: int64\n"
          ]
        },
        {
          "output_type": "stream",
          "name": "stderr",
          "text": [
            "/usr/local/lib/python3.10/dist-packages/ipykernel/ipkernel.py:283: DeprecationWarning: `should_run_async` will not call `transform_cell` automatically in the future. Please pass the result to `transformed_cell` argument and any exception that happen during thetransform in `preprocessing_exc_tuple` in IPython 7.17 and above.\n",
            "  and should_run_async(code)\n"
          ]
        },
        {
          "output_type": "display_data",
          "data": {
            "text/plain": [
              "<Figure size 1000x600 with 1 Axes>"
            ],
            "image/png": "[encoded data removed]"
          },
          "metadata": {}
        }
      ]
    },
    {
      "cell_type": "markdown",
      "source": [
        "Cell 4: Market Basket Analysis - Frequent Itemsets"
      ],
      "metadata": {
        "id": "FaWm9tvT3v84"
      }
    },
    {
      "cell_type": "code",
      "source": [
        "# 3. Market Basket Analysis - Frequent Itemsets\n",
        "# Convert sales data into a transactional format\n",
        "basket = sales_df.groupby(['OrderID', 'ProductName'])['Price'].count().unstack().fillna(0)\n",
        "basket = basket.applymap(lambda x: 1 if x > 0 else 0)\n",
        "\n",
        "# Find frequent itemsets using Apriori algorithm\n",
        "frequent_itemsets = apriori(basket, min_support=0.05, use_colnames=True)\n",
        "frequent_itemsets = frequent_itemsets.sort_values(by='support', ascending=False)\n",
        "\n",
        "print(\"\\nFrequent Itemsets\")\n",
        "print(frequent_itemsets.head(10))\n"
      ],
      "metadata": {
        "colab": {
          "base_uri": "https://localhost:8080/"
        },
        "id": "mKp0zTR_2wyp",
        "outputId": "965f29ec-6635-4e8f-b8c0-e6614858cb4a"
      },
      "execution_count": 50,
      "outputs": [
        {
          "output_type": "stream",
          "name": "stdout",
          "text": [
            "\n",
            "Frequent Itemsets\n",
            "    support               itemsets\n",
            "2  0.604061          (Thingamajig)\n",
            "3  0.598985               (Widget)\n",
            "0  0.543147               (Doodad)\n",
            "1  0.527919               (Gadget)\n",
            "6  0.350254       (Doodad, Widget)\n",
            "9  0.345178  (Thingamajig, Widget)\n",
            "8  0.314721       (Gadget, Widget)\n",
            "5  0.309645  (Thingamajig, Doodad)\n",
            "4  0.274112       (Doodad, Gadget)\n",
            "7  0.274112  (Thingamajig, Gadget)\n"
          ]
        },
        {
          "output_type": "stream",
          "name": "stderr",
          "text": [
            "/usr/local/lib/python3.10/dist-packages/ipykernel/ipkernel.py:283: DeprecationWarning: `should_run_async` will not call `transform_cell` automatically in the future. Please pass the result to `transformed_cell` argument and any exception that happen during thetransform in `preprocessing_exc_tuple` in IPython 7.17 and above.\n",
            "  and should_run_async(code)\n",
            "<ipython-input-50-9388efa91194>:4: FutureWarning: DataFrame.applymap has been deprecated. Use DataFrame.map instead.\n",
            "  basket = basket.applymap(lambda x: 1 if x > 0 else 0)\n",
            "/usr/local/lib/python3.10/dist-packages/mlxtend/frequent_patterns/fpcommon.py:161: DeprecationWarning: DataFrames with non-bool types result in worse computationalperformance and their support might be discontinued in the future.Please use a DataFrame with bool type\n",
            "  warnings.warn(\n"
          ]
        }
      ]
    },
    {
      "cell_type": "markdown",
      "source": [
        "Cell 5: Association Rules"
      ],
      "metadata": {
        "id": "vri-R7Uq4A2f"
      }
    },
    {
      "cell_type": "code",
      "source": [
        "# 4. Association Rules\n",
        "# Specify num_itemsets in the association_rules function\n",
        "num_itemsets = len(frequent_itemsets)\n",
        "\n",
        "rules = association_rules(frequent_itemsets, metric=\"lift\", min_threshold=1.0, num_itemsets=num_itemsets)\n",
        "rules = rules[rules['antecedents'].apply(lambda x: len(x)) + rules['consequents'].apply(lambda x: len(x)) == frequent_itemsets['itemsets'].map(len).iloc[0]]\n",
        "rules = rules.sort_values(by=['confidence', 'lift'], ascending=[False, False])\n",
        "\n",
        "print(\"\\nAssociation Rules\")\n",
        "print(rules.head(10))\n"
      ],
      "metadata": {
        "colab": {
          "base_uri": "https://localhost:8080/"
        },
        "id": "mt_n2VEb2ya3",
        "outputId": "bed1f00f-f23c-4d53-e884-6ae9c7c4ed17"
      },
      "execution_count": 51,
      "outputs": [
        {
          "output_type": "stream",
          "name": "stdout",
          "text": [
            "\n",
            "Association Rules\n",
            "Empty DataFrame\n",
            "Columns: [antecedents, consequents, antecedent support, consequent support, support, confidence, lift, representativity, leverage, conviction, zhangs_metric, jaccard, certainty, kulczynski]\n",
            "Index: []\n"
          ]
        },
        {
          "output_type": "stream",
          "name": "stderr",
          "text": [
            "/usr/local/lib/python3.10/dist-packages/ipykernel/ipkernel.py:283: DeprecationWarning: `should_run_async` will not call `transform_cell` automatically in the future. Please pass the result to `transformed_cell` argument and any exception that happen during thetransform in `preprocessing_exc_tuple` in IPython 7.17 and above.\n",
            "  and should_run_async(code)\n"
          ]
        }
      ]
    },
    {
      "cell_type": "markdown",
      "source": [
        "Cell 6: Visualization of the Top 10 Frequent Itemsets"
      ],
      "metadata": {
        "id": "1tfeyC2_4G2i"
      }
    },
    {
      "cell_type": "code",
      "source": [
        "# Visualization of the top 10 frequent itemsets\n",
        "plt.figure(figsize=(10, 6))\n",
        "sns.barplot(x=frequent_itemsets['support'].head(10), y=frequent_itemsets['itemsets'].head(10).apply(lambda x: ', '.join(x)))\n",
        "plt.title(\"Top 10 Frequent Itemsets\")\n",
        "plt.xlabel(\"Support\")\n",
        "plt.ylabel(\"Itemsets\")\n",
        "plt.show()\n"
      ],
      "metadata": {
        "colab": {
          "base_uri": "https://localhost:8080/",
          "height": 619
        },
        "id": "_5ls5ioE2zeE",
        "outputId": "32d66d97-c8a7-4892-9548-da4e3a607be5"
      },
      "execution_count": 52,
      "outputs": [
        {
          "output_type": "stream",
          "name": "stderr",
          "text": [
            "/usr/local/lib/python3.10/dist-packages/ipykernel/ipkernel.py:283: DeprecationWarning: `should_run_async` will not call `transform_cell` automatically in the future. Please pass the result to `transformed_cell` argument and any exception that happen during thetransform in `preprocessing_exc_tuple` in IPython 7.17 and above.\n",
            "  and should_run_async(code)\n"
          ]
        },
        {
          "output_type": "display_data",
          "data": {
            "text/plain": [
              "<Figure size 1000x600 with 1 Axes>"
            ],
            "image/png": "[encoded data removed]"
          },
          "metadata": {}
        }
      ]
    },
    {
      "cell_type": "markdown",
      "source": [
        "Cell 7: Analysis of Store-Specific Trends"
      ],
      "metadata": {
        "id": "KB9Y60pZ4Hyt"
      }
    },
    {
      "cell_type": "code",
      "source": [
        "# 5. Market Basket Analysis for Each Store\n",
        "# Market basket analysis for each store\n",
        "for store in sales_df['StoreID'].unique():\n",
        "    print(f\"\\nMarket Basket Analysis for Store: {store}\")\n",
        "    store_data = sales_df[sales_df['StoreID'] == store]\n",
        "    store_basket = store_data.groupby(['OrderID', 'ProductName'])['Price'].count().unstack().fillna(0)\n",
        "    store_basket = store_basket.applymap(lambda x: 1 if x > 0 else 0)\n",
        "\n",
        "    store_frequent_itemsets = apriori(store_basket, min_support=0.05, use_colnames=True)\n",
        "    store_frequent_itemsets = store_frequent_itemsets.sort_values(by='support', ascending=False)\n",
        "\n",
        "    print(\"Frequent Itemsets:\")\n",
        "    print(store_frequent_itemsets.head(10))\n",
        "\n",
        "    # Fix: Add num_itemsets to the association_rules function\n",
        "    num_itemsets = len(store_frequent_itemsets)\n",
        "    store_rules = association_rules(store_frequent_itemsets, metric=\"lift\", min_threshold=1.0, num_itemsets=num_itemsets)\n",
        "    store_rules = store_rules[store_rules['antecedents'].apply(lambda x: len(x)) + store_rules['consequents'].apply(lambda x: len(x)) == store_frequent_itemsets['itemsets'].map(len).iloc[0]]\n",
        "    store_rules = store_rules.sort_values(by=['confidence', 'lift'], ascending=[False, False])\n",
        "\n",
        "    print(\"Association Rules:\")\n",
        "    print(store_rules.head(10))\n"
      ],
      "metadata": {
        "colab": {
          "base_uri": "https://localhost:8080/"
        },
        "id": "DQsYhHzB20we",
        "outputId": "e8038916-404d-4671-afb9-daa9a553d11f"
      },
      "execution_count": 53,
      "outputs": [
        {
          "output_type": "stream",
          "name": "stdout",
          "text": [
            "\n",
            "Market Basket Analysis for Store: Store001\n",
            "Frequent Itemsets:\n",
            "   support               itemsets\n",
            "3     0.61               (Widget)\n",
            "2     0.58          (Thingamajig)\n",
            "0     0.53               (Doodad)\n",
            "1     0.51               (Gadget)\n",
            "9     0.37  (Thingamajig, Widget)\n",
            "6     0.32       (Doodad, Widget)\n",
            "8     0.30       (Gadget, Widget)\n",
            "5     0.28  (Thingamajig, Doodad)\n",
            "4     0.26       (Doodad, Gadget)\n",
            "7     0.26  (Thingamajig, Gadget)\n",
            "Association Rules:\n",
            "Empty DataFrame\n",
            "Columns: [antecedents, consequents, antecedent support, consequent support, support, confidence, lift, representativity, leverage, conviction, zhangs_metric, jaccard, certainty, kulczynski]\n",
            "Index: []\n",
            "\n",
            "Market Basket Analysis for Store: Store002\n",
            "Frequent Itemsets:\n",
            "    support               itemsets\n",
            "2  0.622449          (Thingamajig)\n",
            "3  0.581633               (Widget)\n",
            "0  0.551020               (Doodad)\n",
            "1  0.540816               (Gadget)\n",
            "6  0.367347       (Doodad, Widget)\n",
            "5  0.326531  (Thingamajig, Doodad)\n",
            "8  0.326531       (Gadget, Widget)\n",
            "9  0.316327  (Thingamajig, Widget)\n",
            "4  0.285714       (Doodad, Gadget)\n",
            "7  0.285714  (Thingamajig, Gadget)\n",
            "Association Rules:\n",
            "Empty DataFrame\n",
            "Columns: [antecedents, consequents, antecedent support, consequent support, support, confidence, lift, representativity, leverage, conviction, zhangs_metric, jaccard, certainty, kulczynski]\n",
            "Index: []\n"
          ]
        },
        {
          "output_type": "stream",
          "name": "stderr",
          "text": [
            "/usr/local/lib/python3.10/dist-packages/ipykernel/ipkernel.py:283: DeprecationWarning: `should_run_async` will not call `transform_cell` automatically in the future. Please pass the result to `transformed_cell` argument and any exception that happen during thetransform in `preprocessing_exc_tuple` in IPython 7.17 and above.\n",
            "  and should_run_async(code)\n",
            "<ipython-input-53-f20c406f6fb6>:7: FutureWarning: DataFrame.applymap has been deprecated. Use DataFrame.map instead.\n",
            "  store_basket = store_basket.applymap(lambda x: 1 if x > 0 else 0)\n",
            "/usr/local/lib/python3.10/dist-packages/mlxtend/frequent_patterns/fpcommon.py:161: DeprecationWarning: DataFrames with non-bool types result in worse computationalperformance and their support might be discontinued in the future.Please use a DataFrame with bool type\n",
            "  warnings.warn(\n",
            "<ipython-input-53-f20c406f6fb6>:7: FutureWarning: DataFrame.applymap has been deprecated. Use DataFrame.map instead.\n",
            "  store_basket = store_basket.applymap(lambda x: 1 if x > 0 else 0)\n",
            "/usr/local/lib/python3.10/dist-packages/mlxtend/frequent_patterns/fpcommon.py:161: DeprecationWarning: DataFrames with non-bool types result in worse computationalperformance and their support might be discontinued in the future.Please use a DataFrame with bool type\n",
            "  warnings.warn(\n"
          ]
        }
      ]
    },
    {
      "cell_type": "markdown",
      "source": [
        "Cell 8: Save Results"
      ],
      "metadata": {
        "id": "L-szREnH4L7w"
      }
    },
    {
      "cell_type": "code",
      "source": [
        "# Save results\n",
        "frequent_itemsets.to_csv('/content/drive/MyDrive/frequent_itemsets.csv', index=False)\n",
        "rules.to_csv('/content/drive/MyDrive/association_rules.csv', index=False)\n",
        "\n",
        "print(\"\\nAnalysis Complete. Results saved to 'frequent_itemsets.csv' and 'association_rules.csv'.\")\n"
      ],
      "metadata": {
        "colab": {
          "base_uri": "https://localhost:8080/"
        },
        "id": "vKheYb9N22FL",
        "outputId": "7ec64661-2204-4c6b-dfbb-da7636e5d3ea"
      },
      "execution_count": 54,
      "outputs": [
        {
          "output_type": "stream",
          "name": "stdout",
          "text": [
            "\n",
            "Analysis Complete. Results saved to 'frequent_itemsets.csv' and 'association_rules.csv'.\n"
          ]
        },
        {
          "output_type": "stream",
          "name": "stderr",
          "text": [
            "/usr/local/lib/python3.10/dist-packages/ipykernel/ipkernel.py:283: DeprecationWarning: `should_run_async` will not call `transform_cell` automatically in the future. Please pass the result to `transformed_cell` argument and any exception that happen during thetransform in `preprocessing_exc_tuple` in IPython 7.17 and above.\n",
            "  and should_run_async(code)\n"
          ]
        }
      ]
    }
  ]
}